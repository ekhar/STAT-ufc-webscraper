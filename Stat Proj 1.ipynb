{
 "cells": [
  {
   "cell_type": "code",
   "execution_count": 1,
   "metadata": {},
   "outputs": [],
   "source": [
    "from bs4 import BeautifulSoup as soup\n",
    "import urllib\n",
    "import pandas as pd\n",
    "import os"
   ]
  },
  {
   "cell_type": "code",
   "execution_count": 27,
   "metadata": {},
   "outputs": [],
   "source": [
    "url = \"https://www.tapology.com/rankings/current-top-ten-lightweight-mma-fighters-155-pounds\"\n",
    "url2 = \"https://www.tapology.com/rankings/current-top-ten-lightweight-mma-fighters-155-pounds?page=2&ranking=10\""
   ]
  },
  {
   "cell_type": "code",
   "execution_count": 28,
   "metadata": {},
   "outputs": [],
   "source": [
    "req = urllib.request.Request(url, headers={'User-Agent': 'Mozilla/5.0'})\n",
    "page = urllib.request.urlopen(req)\n",
    "page_html =  page.read()\n",
    "page.close()\n",
    "req = urllib.request.Request(url2, headers={'User-Agent': 'Mozilla/5.0'})\n",
    "page = urllib.request.urlopen(req)\n",
    "page_html2 =  page.read()\n",
    "page.close()"
   ]
  },
  {
   "cell_type": "code",
   "execution_count": 29,
   "metadata": {},
   "outputs": [],
   "source": [
    "page_soup = soup(page_html, \"html.parser\")\n",
    "page_soup2 = soup(page_html2,\"html.parser\")"
   ]
  },
  {
   "cell_type": "code",
   "execution_count": 30,
   "metadata": {},
   "outputs": [],
   "source": [
    "names_html = page_soup.findAll(\"h1\", {\"class\":\"name\"}) + page_soup2.findAll(\"h1\", {\"class\":\"name\"})"
   ]
  },
  {
   "cell_type": "code",
   "execution_count": 31,
   "metadata": {},
   "outputs": [
    {
     "data": {
      "text/plain": [
       "list"
      ]
     },
     "execution_count": 31,
     "metadata": {},
     "output_type": "execute_result"
    }
   ],
   "source": [
    "type(names_html)"
   ]
  },
  {
   "cell_type": "code",
   "execution_count": 32,
   "metadata": {},
   "outputs": [],
   "source": [
    "def quote_remover(name):\n",
    "    first = name.find('\"',0,len(name))\n",
    "    second = name.find('\"',first+1,len(name))\n",
    "    if first == second:\n",
    "        return name\n",
    "    else:\n",
    "        return name[:first] + name[second+2:]\n",
    "names = []\n",
    "for name in names_html:\n",
    "    string = name.findAll(\"a\")[0].text\n",
    "    ret = quote_remover(string)\n",
    "    names.append(ret)"
   ]
  },
  {
   "cell_type": "code",
   "execution_count": 8,
   "metadata": {},
   "outputs": [],
   "source": [
    "#now we have the names of all 100 lightweights"
   ]
  },
  {
   "cell_type": "code",
   "execution_count": 9,
   "metadata": {},
   "outputs": [
    {
     "data": {
      "text/plain": [
       "['Dustin Poirier',\n",
       " 'Justin Gaethje',\n",
       " 'Charles Oliveira',\n",
       " 'Michael Chandler',\n",
       " 'Tony Ferguson',\n",
       " 'Dan Hooker',\n",
       " 'Beneil Dariush',\n",
       " 'Conor McGregor',\n",
       " 'Islam Makhachev',\n",
       " 'Paul Felder',\n",
       " 'Rafael dos Anjos',\n",
       " 'Diego Ferreira',\n",
       " 'Kevin Lee',\n",
       " 'Al Iaquinta',\n",
       " 'Drew Dober',\n",
       " 'Thiago Moisés',\n",
       " 'Arman Tsarukyan',\n",
       " 'Gregor Gillespie',\n",
       " 'Francisco Trinaldo',\n",
       " 'Alexander Hernandez',\n",
       " 'Rafael Fiziev',\n",
       " 'Khabib Nurmagomedov',\n",
       " 'Leonardo Santos',\n",
       " 'Bobby Green',\n",
       " 'Drakkar Klose',\n",
       " 'Nasrat Haqparast',\n",
       " 'Vinc Pichel',\n",
       " 'Scott Holtzman',\n",
       " 'Renato Moicano',\n",
       " 'Brad Riddell',\n",
       " 'Jim Miller',\n",
       " 'Damir Ismagulov',\n",
       " 'David Teymur',\n",
       " 'Marc Diakiese',\n",
       " 'Clay Guida',\n",
       " 'Joel Alvarez',\n",
       " 'Davi Ramos',\n",
       " 'Magomed Mustafaev',\n",
       " 'Matt Frevola',\n",
       " 'Lando Vannata',\n",
       " 'Khama Worthy',\n",
       " 'John Makdessi',\n",
       " 'Mairbek Taisumov',\n",
       " 'Ottman Azaitar',\n",
       " 'Mark O. Madsen',\n",
       " 'Natan Schulte',\n",
       " 'Mike Davis',\n",
       " 'Christos Giagos',\n",
       " 'Devonte Smith',\n",
       " 'Joe Solecki',\n",
       " 'Olivier Aubin-Mercier',\n",
       " 'Damir Hadžović',\n",
       " 'Michael Johnson',\n",
       " 'Alan Patrick',\n",
       " 'Guram Kutateladze',\n",
       " 'Roosevelt Roberts',\n",
       " 'Joaquim Silva',\n",
       " 'Patricky Pitbull',\n",
       " 'Luis Pena',\n",
       " 'Brent Primus',\n",
       " 'Rashid Magomedov',\n",
       " 'Mateusz Gamrot',\n",
       " 'Gabriel Benítez',\n",
       " 'Austin Hubbard',\n",
       " 'Frank Camacho',\n",
       " 'Alex da Silva',\n",
       " 'Yancy Medeiros',\n",
       " 'Don Madge',\n",
       " 'Abdul-Aziz Abdulvakhabov',\n",
       " 'Tofiq Musayev',\n",
       " 'Stevie Ray',\n",
       " 'Uros Medic',\n",
       " 'Jai Herbert',\n",
       " 'Jordan Leavitt',\n",
       " 'Goiti Yamauchi',\n",
       " 'Marcin Held',\n",
       " 'Eduard Vartanyan',\n",
       " 'Alexander Yakovlev',\n",
       " 'Claudio Puelles',\n",
       " 'Joe Lauzon',\n",
       " 'Des Green',\n",
       " 'Rafa García',\n",
       " 'Chris Wade',\n",
       " 'Mason Jones',\n",
       " 'Justin Jaynes',\n",
       " 'Loik Radzhabov',\n",
       " 'Fares Ziam',\n",
       " 'Thanh Le',\n",
       " 'Myles Jury',\n",
       " 'Alex White',\n",
       " 'Luigi Vendramini',\n",
       " 'Akhmet Aliev',\n",
       " 'Martin Nguyen',\n",
       " 'Islam Mamedov',\n",
       " 'Will Brooks',\n",
       " 'Yusuf Raisov',\n",
       " 'Chris Gruetzemacher',\n",
       " 'Nate Andrews',\n",
       " 'Gleison Tibau',\n",
       " 'Joe Duffy']"
      ]
     },
     "execution_count": 9,
     "metadata": {},
     "output_type": "execute_result"
    }
   ],
   "source": [
    "names"
   ]
  },
  {
   "cell_type": "code",
   "execution_count": 10,
   "metadata": {},
   "outputs": [],
   "source": [
    "striking_accuracies = []\n",
    "grappling_accuracies = []\n",
    "ages = []\n",
    "heights = []\n",
    "lreachs = []\n",
    "reachs = []\n",
    "countries = []\n",
    "insta = []\n",
    "\n",
    "w_percents = []"
   ]
  },
  {
   "cell_type": "code",
   "execution_count": 11,
   "metadata": {},
   "outputs": [
    {
     "name": "stdout",
     "output_type": "stream",
     "text": [
      "Count  1\n",
      "Count  2\n",
      "Count  3\n",
      "Count  4\n",
      "Count  5\n",
      "Count  6\n",
      "Count  7\n",
      "Count  8\n",
      "Count  9\n",
      "Count  10\n",
      "Count  11\n",
      "Count  12\n",
      "Count  13\n",
      "Count  14\n",
      "Count  15\n",
      "Count  16\n",
      "Count  17\n",
      "Count  18\n",
      "Count  19\n",
      "Count  20\n",
      "Count  21\n",
      "Count  22\n",
      "Count  23\n",
      "Count  24\n",
      "Count  25\n",
      "Count  26\n",
      "Count  27\n",
      "Count  28\n",
      "Count  29\n",
      "Count  30\n",
      "Count  31\n",
      "Count  32\n",
      "Count  33\n",
      "Count  34\n",
      "Count  35\n",
      "Count  36\n",
      "Count  37\n",
      "Count  38\n",
      "Count  39\n",
      "Count  40\n",
      "Count  41\n",
      "Count  42\n",
      "Count  43\n",
      "Count  44\n",
      "Count  45\n",
      "Count  46\n",
      "Count  47\n",
      "Count  48\n",
      "Count  49\n",
      "Count  50\n",
      "Count  51\n",
      "Count  52\n",
      "Count  53\n",
      "Count  54\n",
      "Count  55\n",
      "Count  56\n",
      "Count  57\n",
      "Count  58\n",
      "Count  59\n",
      "Count  60\n",
      "Count  61\n",
      "Count  62\n",
      "Count  63\n",
      "Count  64\n",
      "Count  65\n"
     ]
    },
    {
     "ename": "IndexError",
     "evalue": "list index out of range",
     "output_type": "error",
     "traceback": [
      "\u001b[1;31m---------------------------------------------------------------------------\u001b[0m",
      "\u001b[1;31mIndexError\u001b[0m                                Traceback (most recent call last)",
      "\u001b[1;32m<ipython-input-11-a1ed72c32af9>\u001b[0m in \u001b[0;36m<module>\u001b[1;34m\u001b[0m\n\u001b[0;32m     15\u001b[0m     \u001b[0mpage_soup\u001b[0m \u001b[1;33m=\u001b[0m \u001b[0msoup\u001b[0m\u001b[1;33m(\u001b[0m\u001b[0mpage_html\u001b[0m\u001b[1;33m,\u001b[0m \u001b[1;34m\"html.parser\"\u001b[0m\u001b[1;33m)\u001b[0m\u001b[1;33m\u001b[0m\u001b[1;33m\u001b[0m\u001b[0m\n\u001b[0;32m     16\u001b[0m \u001b[1;33m\u001b[0m\u001b[0m\n\u001b[1;32m---> 17\u001b[1;33m     \u001b[0mtwitter_link\u001b[0m \u001b[1;33m=\u001b[0m \u001b[0mpage_soup\u001b[0m\u001b[1;33m.\u001b[0m\u001b[0mfindAll\u001b[0m\u001b[1;33m(\u001b[0m\u001b[1;34m\"div\"\u001b[0m\u001b[1;33m,\u001b[0m \u001b[1;33m{\u001b[0m\u001b[1;34m\"class\"\u001b[0m\u001b[1;33m:\u001b[0m\u001b[1;34m\"c-hero__social-links\"\u001b[0m\u001b[1;33m}\u001b[0m\u001b[1;33m)\u001b[0m\u001b[1;33m[\u001b[0m\u001b[1;36m0\u001b[0m\u001b[1;33m]\u001b[0m\u001b[1;33m\u001b[0m\u001b[1;33m\u001b[0m\u001b[0m\n\u001b[0m\u001b[0;32m     18\u001b[0m     \u001b[0mtwitter_link\u001b[0m \u001b[1;33m=\u001b[0m \u001b[0mtwitter_link\u001b[0m\u001b[1;33m.\u001b[0m\u001b[0mfindAll\u001b[0m\u001b[1;33m(\u001b[0m\u001b[1;34m\"a\"\u001b[0m\u001b[1;33m,\u001b[0m \u001b[1;33m{\u001b[0m\u001b[1;34m\"class\"\u001b[0m\u001b[1;33m:\u001b[0m \u001b[1;34m\"c-hero__social-link\"\u001b[0m\u001b[1;33m}\u001b[0m\u001b[1;33m)\u001b[0m\u001b[1;33m\u001b[0m\u001b[1;33m\u001b[0m\u001b[0m\n\u001b[0;32m     19\u001b[0m     \u001b[0mtwitter_flag\u001b[0m\u001b[1;33m=\u001b[0m\u001b[1;32mFalse\u001b[0m\u001b[1;33m\u001b[0m\u001b[1;33m\u001b[0m\u001b[0m\n",
      "\u001b[1;31mIndexError\u001b[0m: list index out of range"
     ]
    }
   ],
   "source": [
    "import time\n",
    "count = 0\n",
    "for name in names:\n",
    "    name = name.replace(\" \", \"-\")\n",
    "    url = \"https://www.ufc.com/athlete/\" + name\n",
    "\n",
    "    req = urllib.request.Request(url, headers={'User-Agent': 'Mozilla/5.0'})\n",
    "    try:\n",
    "        page = urllib.request.urlopen(req)\n",
    "    except:\n",
    "        continue\n",
    "    page_html =  page.read()\n",
    "    page.close()\n",
    "\n",
    "    page_soup = soup(page_html, \"html.parser\")\n",
    "\n",
    "    twitter_link = page_soup.findAll(\"div\", {\"class\":\"c-hero__social-links\"})[0]\n",
    "    twitter_link = twitter_link.findAll(\"a\", {\"class\": \"c-hero__social-link\"})\n",
    "    twitter_flag=False\n",
    "    for link in twitter_link:\n",
    "        if \"https://instagram.com\" in link['href']:\n",
    "            twitter_flag = True\n",
    "            insta.append(link['href'])\n",
    "    if twitter_flag==False:\n",
    "        insta.append(\"Na\")\n",
    "\n",
    "    try:\n",
    "        striking_accuracy =  int(page_soup.findAll(\"svg\",{\"class\":\"e-chart-circle\"})[0].text.split(\"\\n\")[-2].split(\"%\")[0])\n",
    "        striking_accuracies.append(striking_accuracy)\n",
    "    except:\n",
    "        striking_accuracies.append(-1)\n",
    "\n",
    "    try:\n",
    "        grappling_accuracy = int(page_soup.findAll(\"svg\",{\"class\":\"e-chart-circle\"})[1].text.split(\"\\n\")[-2].split(\"%\")[0])\n",
    "        grappling_accuracies.append(grappling_accuracy)\n",
    "\n",
    "    except:\n",
    "        grappling_accuracies.append(-1)\n",
    "\n",
    "    row1 = page_soup.findAll(\"div\", {\"class\":\"c-bio__row--3col\"})[0].text.split(\"\\n\")#.remove(\"\")\n",
    "    row1 = [x for x in row1 if x]\n",
    "    row2 = page_soup.findAll(\"div\", {\"class\":\"c-bio__row--3col\"})[1].text.split(\"\\n\")#.remove(\"\")\n",
    "    row2 = [x for x in row2 if x]\n",
    "\n",
    "    try:\n",
    "        reach = row2[3]\n",
    "        reachs.append(reach)\n",
    "    except:\n",
    "        reachs.append(-1)\n",
    "\n",
    "    try:\n",
    "        leg_reach = row2[5]\n",
    "        lreachs.append(leg_reach)\n",
    "    except:\n",
    "        lreachs.append(-1)\n",
    "\n",
    "    try:\n",
    "        height = row1[3]\n",
    "        heights.append(height)\n",
    "    except:\n",
    "        heights.append(-1)\n",
    "\n",
    "    try:\n",
    "        age = row1[1]\n",
    "        ages.append(age)\n",
    "    except:\n",
    "        ages.append(-1)\n",
    "\n",
    "    try:\n",
    "        country = page_soup.findAll(\"div\", {\"class\":\"c-bio__row--1col\"})[1].text.split(\",\")[1][1:]#.split(\",\")[1]\n",
    "        countries.append(country)\n",
    "    except:\n",
    "        countries.append(\"Na\")\n",
    "\n",
    "    record = page_soup.findAll(\"div\", {\"class\":\"c-hero__headline-suffix tz-change-inner\"})[0].text.split(\"-\")\n",
    "    wins = int(record[0].split(\"\\n\")[-1])\n",
    "    losses = int(record[1])\n",
    "    try:\n",
    "        draws = int(record[2][0])\n",
    "    except:\n",
    "        draws = 0\n",
    "    #dv\n",
    "    win_percent = wins/(wins+losses+draws)\n",
    "    w_percents.append(win_percent)\n",
    "\n",
    "    if count %10==0:\n",
    "        time.sleep(5)\n",
    "    count +=1\n",
    "    print(\"Count \", count)\n"
   ]
  },
  {
   "cell_type": "code",
   "execution_count": 12,
   "metadata": {},
   "outputs": [
    {
     "data": {
      "text/plain": [
       "65"
      ]
     },
     "execution_count": 12,
     "metadata": {},
     "output_type": "execute_result"
    }
   ],
   "source": [
    "#time to plug this into twitter hashtag\n",
    "len(countries) "
   ]
  },
  {
   "cell_type": "code",
   "execution_count": 33,
   "metadata": {},
   "outputs": [],
   "source": [
    "names = names[:65]"
   ]
  },
  {
   "cell_type": "code",
   "execution_count": 34,
   "metadata": {},
   "outputs": [],
   "source": [
    "#check their followers"
   ]
  },
  {
   "cell_type": "code",
   "execution_count": 35,
   "metadata": {},
   "outputs": [
    {
     "data": {
      "text/plain": [
       "65"
      ]
     },
     "execution_count": 35,
     "metadata": {},
     "output_type": "execute_result"
    }
   ],
   "source": [
    "len(names)"
   ]
  },
  {
   "cell_type": "code",
   "execution_count": 16,
   "metadata": {},
   "outputs": [],
   "source": [
    "\n",
    "follower_list = []\n",
    "for url in insta:\n",
    "    if url!=\"Na\":\n",
    "        req = urllib.request.Request(url, headers={'User-Agent': 'Mozilla/5.0'})\n",
    "        page = urllib.request.urlopen(req)\n",
    "        page_html =  page.read()\n",
    "        page.close()\n",
    "        \n",
    "        page_soup = soup(page_html, \"html.parser\")\n",
    "        try:\n",
    "            first = page_soup.findAll(\"meta\")[7].text.find('\"userInteractionCount\":') + len('\"userInteractionCount\":')\n",
    "            second = page_soup.findAll(\"meta\")[7].text[first:].find(\"}\")\n",
    "            followers = int(page_soup.findAll(\"meta\")[7].text[first:first+second].strip('\"\"'))\n",
    "            follower_list.append(followers)\n",
    "        except:\n",
    "            follower_list.append(-1)\n",
    "        #print(followers)"
   ]
  },
  {
   "cell_type": "code",
   "execution_count": 17,
   "metadata": {},
   "outputs": [
    {
     "data": {
      "text/plain": [
       "65"
      ]
     },
     "execution_count": 17,
     "metadata": {},
     "output_type": "execute_result"
    }
   ],
   "source": [
    "len(follower_list)"
   ]
  },
  {
   "cell_type": "code",
   "execution_count": 36,
   "metadata": {},
   "outputs": [],
   "source": [
    "countries = [x.replace(\"\\n\",\"\") for x in countries]\n",
    "data = {\n",
    "    \n",
    "    \"Win-Percent\": w_percents,\n",
    "    \"Name\": names,\n",
    "    \"Leg-Reach\": lreachs,\n",
    "    \"Reach\": reachs,\n",
    "    \"Instagram-Followers\": follower_list,\n",
    "    \"Age\": ages,\n",
    "    \"Height\": heights,\n",
    "    \"Grappling-Accuracy\":grappling_accuracies,\n",
    "    \"Striking-Accuracy\":striking_accuracies,\n",
    "    \"Birth-Country\": countries\n",
    "    \n",
    "}\n",
    "df = pd.DataFrame(data)\n",
    "#len(lreachs)\n",
    "#print(df)"
   ]
  },
  {
   "cell_type": "code",
   "execution_count": 37,
   "metadata": {},
   "outputs": [],
   "source": [
    "df.to_csv(r'UFC_DATA_REG.csv', index = False)"
   ]
  },
  {
   "cell_type": "code",
   "execution_count": null,
   "metadata": {},
   "outputs": [],
   "source": []
  }
 ],
 "metadata": {
  "kernelspec": {
   "display_name": "Python 3",
   "language": "python",
   "name": "python3"
  },
  "language_info": {
   "codemirror_mode": {
    "name": "ipython",
    "version": 3
   },
   "file_extension": ".py",
   "mimetype": "text/x-python",
   "name": "python",
   "nbconvert_exporter": "python",
   "pygments_lexer": "ipython3",
   "version": "3.7.3"
  }
 },
 "nbformat": 4,
 "nbformat_minor": 2
}
